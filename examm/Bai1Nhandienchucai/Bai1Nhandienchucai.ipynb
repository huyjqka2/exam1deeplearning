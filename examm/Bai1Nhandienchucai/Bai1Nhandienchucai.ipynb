{
 "cells": [
  {
   "metadata": {
    "ExecuteTime": {
     "end_time": "2025-10-08T09:50:10.961839Z",
     "start_time": "2025-10-08T09:50:10.957858Z"
    }
   },
   "cell_type": "code",
   "source": [
    "# Creating data set\n",
    "# A\n",
    "a =[0, 0, 1, 1, 0, 0,\n",
    "0, 1, 0, 0, 1, 0,\n",
    "1, 1, 1, 1, 1, 1,\n",
    "1, 0, 0, 0, 0, 1,\n",
    "1, 0, 0, 0, 0, 1]\n",
    "# B\n",
    "b =[0, 1, 1, 1, 1, 0,\n",
    "0, 1, 0, 0, 1, 0,\n",
    "0, 1, 1, 1, 1, 0,\n",
    "0, 1, 0, 0, 1, 0,\n",
    "0, 1, 1, 1, 1, 0]\n",
    "# C\n",
    "c =[0, 1, 1, 1, 1, 0,\n",
    "0, 1, 0, 0, 0, 0,\n",
    "0, 1, 0, 0, 0, 0,\n",
    "0, 1, 0, 0, 0, 0,\n",
    "0, 1, 1, 1, 1, 0]\n",
    "# Creating labels\n",
    "y =[[1, 0, 0],\n",
    "[0, 1, 0],\n",
    "[0, 0, 1]]"
   ],
   "id": "c16284131966ba3d",
   "outputs": [],
   "execution_count": 23
  },
  {
   "metadata": {
    "ExecuteTime": {
     "end_time": "2025-10-08T09:50:12.309862Z",
     "start_time": "2025-10-08T09:50:12.243962Z"
    }
   },
   "cell_type": "code",
   "source": [
    "import numpy as np\n",
    "import matplotlib.pyplot as plt\n",
    "# visualizing the data, plotting A.\n",
    "plt.imshow(np.array(a).reshape(5, 6))\n",
    "plt.show()\n"
   ],
   "id": "e405316b94d8ee42",
   "outputs": [
    {
     "data": {
      "text/plain": [
       "<Figure size 640x480 with 1 Axes>"
      ],
      "image/png": "[encoded data removed]"
     },
     "metadata": {},
     "output_type": "display_data",
     "jetTransient": {
      "display_id": null
     }
    }
   ],
   "execution_count": 24
  },
  {
   "metadata": {
    "ExecuteTime": {
     "end_time": "2025-10-08T09:50:14.412996Z",
     "start_time": "2025-10-08T09:50:14.408058Z"
    }
   },
   "cell_type": "code",
   "source": [
    "# converting data and labels into numpy array\n",
    "x =[np.array(a).reshape(1, 30), np.array(b).reshape(1, 30),\n",
    "np.array(c).reshape(1, 30)]\n",
    "y = np.array(y)\n",
    "# Printing data and labels\n",
    "print(x, \"\\n\\n\", y)"
   ],
   "id": "fd3b6a6b51da4492",
   "outputs": [
    {
     "name": "stdout",
     "output_type": "stream",
     "text": [
      "[array([[0, 0, 1, 1, 0, 0, 0, 1, 0, 0, 1, 0, 1, 1, 1, 1, 1, 1, 1, 0, 0, 0,\n",
      "        0, 1, 1, 0, 0, 0, 0, 1]]), array([[0, 1, 1, 1, 1, 0, 0, 1, 0, 0, 1, 0, 0, 1, 1, 1, 1, 0, 0, 1, 0, 0,\n",
      "        1, 0, 0, 1, 1, 1, 1, 0]]), array([[0, 1, 1, 1, 1, 0, 0, 1, 0, 0, 0, 0, 0, 1, 0, 0, 0, 0, 0, 1, 0, 0,\n",
      "        0, 0, 0, 1, 1, 1, 1, 0]])] \n",
      "\n",
      " [[1 0 0]\n",
      " [0 1 0]\n",
      " [0 0 1]]\n"
     ]
    }
   ],
   "execution_count": 25
  },
  {
   "metadata": {
    "ExecuteTime": {
     "end_time": "2025-10-08T09:50:15.920234Z",
     "start_time": "2025-10-08T09:50:15.916780Z"
    }
   },
   "cell_type": "code",
   "source": [
    "# Activation function\n",
    "def sigmoid(x):\n",
    "    return 1 / (1 + np.exp(-x))\n",
    "\n",
    "# Feed-forward neural network\n",
    "def f_forward(x, w1, w2):\n",
    "    # Hidden layer\n",
    "    z1 = x.dot(w1)          # input from layer 1\n",
    "    a1 = sigmoid(z1)        # output from hidden layer\n",
    "    z2 = a1.dot(w2)         # input to output layer\n",
    "    a2 = sigmoid(z2)        # output of network\n",
    "    return a2\n",
    "\n",
    "# Initialize weights randomly\n",
    "def generate_wt(x, y):\n",
    "    li = []\n",
    "    for i in range(x * y):\n",
    "        li.append(np.random.randn())\n",
    "    return np.array(li).reshape(x, y)\n",
    "\n",
    "# Mean squared error (MSE) loss\n",
    "def loss(out, y):\n",
    "    s = np.square(out - y)\n",
    "    s = np.sum(s) / len(y)\n",
    "    return s\n",
    "\n",
    "# Backpropagation\n",
    "def back_prop(x, y, w1, w2, alpha):\n",
    "    # Forward pass\n",
    "    z1 = x.dot(w1)\n",
    "    a1 = sigmoid(z1)\n",
    "    z2 = a1.dot(w2)\n",
    "    a2 = sigmoid(z2)\n",
    "\n",
    "    # Error in output layer\n",
    "    d2 = a2 - y\n",
    "    d1 = np.multiply((w2.dot(d2.T)).T, np.multiply(a1, 1 - a1))\n",
    "\n",
    "    # Gradients for w1 and w2\n",
    "    w1_adj = x.T.dot(d1)\n",
    "    w2_adj = a1.T.dot(d2)\n",
    "\n",
    "    # Update weights\n",
    "    w1 = w1 - alpha * w1_adj\n",
    "    w2 = w2 - alpha * w2_adj\n",
    "\n",
    "    return w1, w2\n"
   ],
   "id": "b0ce22020a18cef5",
   "outputs": [],
   "execution_count": 26
  },
  {
   "metadata": {
    "ExecuteTime": {
     "end_time": "2025-10-08T09:50:18.519561Z",
     "start_time": "2025-10-08T09:50:18.512541Z"
    }
   },
   "cell_type": "code",
   "source": [
    "w1 = generate_wt(30, 5)\n",
    "w2 = generate_wt(5, 3)\n",
    "print(w1, \"\\n\\n\", w2)"
   ],
   "id": "c19da7a75160f78f",
   "outputs": [
    {
     "name": "stdout",
     "output_type": "stream",
     "text": [
      "[[-5.20787062e-01  1.35936794e+00 -6.33208308e-01 -4.55566874e-01\n",
      "  -2.15856699e-01]\n",
      " [ 7.54630209e-01  7.72697474e-01 -5.73635566e-01  2.49259372e-01\n",
      "   2.05400496e-01]\n",
      " [-1.14426172e-02 -1.02458652e+00 -1.92243815e+00 -1.88295042e+00\n",
      "  -3.57073867e-01]\n",
      " [-9.49009314e-01 -1.45071997e+00  4.39400989e-01  1.95674927e-01\n",
      "   1.82931686e-01]\n",
      " [ 3.67313866e-01 -5.28914295e-01 -5.69963743e-01 -7.64801538e-01\n",
      "  -1.08323899e-01]\n",
      " [-4.51502409e-01 -2.26822759e-01  1.58894727e+00 -1.08770350e+00\n",
      "   7.23994263e-01]\n",
      " [-1.31375825e-01 -1.79873451e+00  3.33591681e-01 -1.82733069e+00\n",
      "  -1.07558870e+00]\n",
      " [-7.03972137e-01  1.95459239e-01  1.81296013e-02  2.31944590e-01\n",
      "  -6.08826768e-01]\n",
      " [ 2.78515259e+00 -7.76265847e-01  2.26749437e+00  1.04606968e+00\n",
      "   2.36014250e-01]\n",
      " [-1.66277689e+00 -1.94952313e-01 -6.12284123e-01  1.34999062e-01\n",
      "  -3.39229540e-01]\n",
      " [ 7.20300746e-01 -3.50980388e-02 -3.27843003e-01  1.54356441e-02\n",
      "  -6.99170528e-01]\n",
      " [-1.36545405e+00 -8.79311191e-01  4.95016605e-01 -5.23690806e-01\n",
      "  -1.20360884e+00]\n",
      " [-4.42037113e-01  2.01283083e-01 -1.09389238e+00 -6.64075229e-01\n",
      "   1.94106573e+00]\n",
      " [-3.68223268e-01 -1.05470938e+00  2.71793444e-01 -9.79840734e-02\n",
      "   7.13744511e-01]\n",
      " [-1.69319762e-01  8.48830440e-01  1.25362982e+00  1.02933506e+00\n",
      "  -3.27733302e-01]\n",
      " [ 1.55000761e-01  5.36304666e-01 -4.49841930e-01  5.76309626e-01\n",
      "   8.95235755e-01]\n",
      " [-1.15251406e-01  9.40761765e-02 -5.68833654e-01  1.01555770e+00\n",
      "   1.07444308e+00]\n",
      " [-7.92368892e-01  6.11141220e-01 -1.17424578e+00  8.24213431e-02\n",
      "   1.31039280e+00]\n",
      " [ 1.60349409e+00 -1.26353803e-02  3.22806111e-01  3.01605353e-01\n",
      "  -7.07042216e-01]\n",
      " [ 2.18391758e+00 -1.42442928e+00  2.61860160e-01  4.02687066e-01\n",
      "  -1.06295413e-02]\n",
      " [-2.37035041e+00 -7.84593637e-01 -1.56514213e+00 -5.43350970e-02\n",
      "  -1.13812532e+00]\n",
      " [-7.80562322e-01  4.01883761e-01  3.42333496e-01 -1.41600029e+00\n",
      "  -2.19216486e-02]\n",
      " [ 2.00490937e-01  7.34340735e-02 -2.20143550e-02 -4.58351167e-01\n",
      "   2.37603682e-01]\n",
      " [-2.74228928e-01 -2.94524163e-01  1.28917577e-01  3.73945381e-04\n",
      "   5.16215802e-01]\n",
      " [-1.39021698e+00 -1.47030491e+00 -9.99821703e-02 -6.29833628e-01\n",
      "  -1.44456229e+00]\n",
      " [ 2.86544250e-01 -5.59291109e-01  1.00950199e-01 -1.64967581e+00\n",
      "   1.37694034e-01]\n",
      " [ 2.09634879e-01  3.32541798e-01 -2.85107736e-01 -2.37743829e-01\n",
      "  -7.84567872e-01]\n",
      " [-2.70341504e-01 -7.12735464e-01 -1.43574140e+00 -1.92264850e+00\n",
      "  -1.07591308e+00]\n",
      " [ 8.59992003e-01  3.83558962e-01 -2.05121842e-01  4.06775212e-01\n",
      "  -5.75913469e-01]\n",
      " [ 1.28236115e-01  1.97519070e-01 -6.51574259e-01 -8.07073423e-02\n",
      "  -3.09628687e-01]] \n",
      "\n",
      " [[-0.4898177  -0.2682674  -0.45166094]\n",
      " [ 1.12896861 -0.09744485  0.10465744]\n",
      " [-0.49428031 -0.06334936  0.3521765 ]\n",
      " [ 0.18905435 -0.6328295  -0.00871069]\n",
      " [-1.70674182  1.04105677 -1.04878339]]\n"
     ]
    }
   ],
   "execution_count": 27
  },
  {
   "metadata": {
    "ExecuteTime": {
     "end_time": "2025-10-08T09:50:20.097521Z",
     "start_time": "2025-10-08T09:50:20.073453Z"
    }
   },
   "cell_type": "code",
   "source": [
    "def train(x, Y, w1, w2, alpha = 0.01, epoch = 10):\n",
    "    acc = []\n",
    "    losss = []\n",
    "    for j in range(epoch):\n",
    "        l = []\n",
    "        for i in range(len(x)):\n",
    "            out = f_forward(x[i], w1, w2)\n",
    "            l.append((loss(out, Y[i])))\n",
    "            w1, w2 = back_prop(x[i], y[i], w1, w2, alpha)\n",
    "        print(\"epochs:\", j + 1, \"======== acc:\", (1 - (sum(l) / len(x))) * 100)\n",
    "        acc.append((1 - (sum(l) / len(x))) * 100)\n",
    "        losss.append(sum(l) / len(x))\n",
    "    return (acc, losss, w1, w2)\n",
    "\n",
    "acc, losss, w1, w2 = train(x, y, w1, w2, 0.1, 100)\n"
   ],
   "id": "81f1f054f42c8cc0",
   "outputs": [
    {
     "name": "stdout",
     "output_type": "stream",
     "text": [
      "epochs: 1 ======== acc: 73.7733297709669\n",
      "epochs: 2 ======== acc: 74.71203318117662\n",
      "epochs: 3 ======== acc: 75.64960350150012\n",
      "epochs: 4 ======== acc: 76.57590058607539\n",
      "epochs: 5 ======== acc: 77.47811789776257\n",
      "epochs: 6 ======== acc: 78.34435276863822\n",
      "epochs: 7 ======== acc: 79.1669747220044\n",
      "epochs: 8 ======== acc: 79.94374766893758\n",
      "epochs: 9 ======== acc: 80.67651736125505\n",
      "epochs: 10 ======== acc: 81.36903728594588\n",
      "epochs: 11 ======== acc: 82.02535470835035\n",
      "epochs: 12 ======== acc: 82.64907570749664\n",
      "epochs: 13 ======== acc: 83.24318904729554\n",
      "epochs: 14 ======== acc: 83.81009225650348\n",
      "epochs: 15 ======== acc: 84.35162594980005\n",
      "epochs: 16 ======== acc: 84.869058002838\n",
      "epochs: 17 ======== acc: 85.36303635023448\n",
      "epochs: 18 ======== acc: 85.83356981693598\n",
      "epochs: 19 ======== acc: 86.28010991511246\n",
      "epochs: 20 ======== acc: 86.70178315285216\n",
      "epochs: 21 ======== acc: 87.09775611144288\n",
      "epochs: 22 ======== acc: 87.46763060091094\n",
      "epochs: 23 ======== acc: 87.8117246041958\n",
      "epochs: 24 ======== acc: 88.13114039013833\n",
      "epochs: 25 ======== acc: 88.42762590242174\n",
      "epochs: 26 ======== acc: 88.70332079922252\n",
      "epochs: 27 ======== acc: 88.96049453551407\n",
      "epochs: 28 ======== acc: 89.2013453858179\n",
      "epochs: 29 ======== acc: 89.4278800134743\n",
      "epochs: 30 ======== acc: 89.64186147757998\n",
      "epochs: 31 ======== acc: 89.84480293211207\n",
      "epochs: 32 ======== acc: 90.03798629596592\n",
      "epochs: 33 ======== acc: 90.22249144525107\n",
      "epochs: 34 ======== acc: 90.39922745518251\n",
      "epochs: 35 ======== acc: 90.56896165933783\n",
      "epochs: 36 ======== acc: 90.73234485136841\n",
      "epochs: 37 ======== acc: 90.8899323147468\n",
      "epochs: 38 ======== acc: 91.04220099744364\n",
      "epochs: 39 ======== acc: 91.18956338040633\n",
      "epochs: 40 ======== acc: 91.33237862251508\n",
      "epochs: 41 ======== acc: 91.47096151203922\n",
      "epochs: 42 ======== acc: 91.6055896729011\n",
      "epochs: 43 ======== acc: 91.73650939032683\n",
      "epochs: 44 ======== acc: 91.86394034585378\n",
      "epochs: 45 ======== acc: 91.98807948950207\n",
      "epochs: 46 ======== acc: 92.10910422699129\n",
      "epochs: 47 ======== acc: 92.22717506062355\n",
      "epochs: 48 ======== acc: 92.3424377919491\n",
      "epochs: 49 ======== acc: 92.45502537077263\n",
      "epochs: 50 ======== acc: 92.56505945691018\n",
      "epochs: 51 ======== acc: 92.67265174711807\n",
      "epochs: 52 ======== acc: 92.77790510881222\n",
      "epochs: 53 ======== acc: 92.88091455381908\n",
      "epochs: 54 ======== acc: 92.98176807887768\n",
      "epochs: 55 ======== acc: 93.08054739450458\n",
      "epochs: 56 ======== acc: 93.17732855981254\n",
      "epochs: 57 ======== acc: 93.27218253768822\n",
      "epochs: 58 ======== acc: 93.36517568219489\n",
      "epochs: 59 ======== acc: 93.45637016802976\n",
      "epochs: 60 ======== acc: 93.5458243702228\n",
      "epochs: 61 ======== acc: 93.63359320092937\n",
      "epochs: 62 ======== acc: 93.71972840908086\n",
      "epochs: 63 ======== acc: 93.80427884776337\n",
      "epochs: 64 ======== acc: 93.88729071345652\n",
      "epochs: 65 ======== acc: 93.96880776065358\n",
      "epochs: 66 ======== acc: 94.04887149487368\n",
      "epochs: 67 ======== acc: 94.12752134665092\n",
      "epochs: 68 ======== acc: 94.20479482872634\n",
      "epochs: 69 ======== acc: 94.28072767836679\n",
      "epochs: 70 ======== acc: 94.35535398647843\n",
      "epochs: 71 ======== acc: 94.42870631496513\n",
      "epochs: 72 ======== acc: 94.5008158035966\n",
      "epochs: 73 ======== acc: 94.57171226749269\n",
      "epochs: 74 ======== acc: 94.64142428619384\n",
      "epochs: 75 ======== acc: 94.70997928517119\n",
      "epochs: 76 ======== acc: 94.77740361052854\n",
      "epochs: 77 ======== acc: 94.84372259756121\n",
      "epochs: 78 ======== acc: 94.90896063376134\n",
      "epochs: 79 ======== acc: 94.97314121679278\n",
      "epochs: 80 ======== acc: 95.0362870079022\n",
      "epochs: 81 ======== acc: 95.09841988118212\n",
      "epochs: 82 ======== acc: 95.15956096905838\n",
      "epochs: 83 ======== acc: 95.21973070433522\n",
      "epochs: 84 ======== acc: 95.27894885909818\n",
      "epochs: 85 ======== acc: 95.33723458074415\n",
      "epochs: 86 ======== acc: 95.3946064253823\n",
      "epochs: 87 ======== acc: 95.45108238882537\n",
      "epochs: 88 ======== acc: 95.50667993537056\n",
      "epochs: 89 ======== acc: 95.56141602455057\n",
      "epochs: 90 ======== acc: 95.61530713601859\n",
      "epochs: 91 ======== acc: 95.66836929271628\n",
      "epochs: 92 ======== acc: 95.72061808246085\n",
      "epochs: 93 ======== acc: 95.77206867807516\n",
      "epochs: 94 ======== acc: 95.82273585617375\n",
      "epochs: 95 ======== acc: 95.87263401470878\n",
      "epochs: 96 ======== acc: 95.92177718937059\n",
      "epochs: 97 ======== acc: 95.9701790689296\n",
      "epochs: 98 ======== acc: 96.01785300959975\n",
      "epochs: 99 ======== acc: 96.0648120484963\n",
      "epochs: 100 ======== acc: 96.11106891625573\n"
     ]
    }
   ],
   "execution_count": 28
  },
  {
   "metadata": {
    "ExecuteTime": {
     "end_time": "2025-10-08T09:50:22.774383Z",
     "start_time": "2025-10-08T09:50:22.673862Z"
    }
   },
   "cell_type": "code",
   "source": [
    "import matplotlib.pyplot as plt1\n",
    "\n",
    "# plotting accuracy\n",
    "plt1.plot(acc)\n",
    "plt1.ylabel('Accuracy')\n",
    "plt1.xlabel(\"Epochs:\")\n",
    "plt1.show()\n",
    "\n",
    "# plotting Loss\n",
    "plt1.plot(losss)\n",
    "plt1.ylabel('Loss')\n",
    "plt1.xlabel(\"Epochs:\")\n",
    "plt1.show()"
   ],
   "id": "b461650ff3e59e77",
   "outputs": [
    {
     "data": {
      "text/plain": [
       "<Figure size 640x480 with 1 Axes>"
      ],
      "image/png": "[encoded data removed]"
     },
     "metadata": {},
     "output_type": "display_data",
     "jetTransient": {
      "display_id": null
     }
    },
    {
     "data": {
      "text/plain": [
       "<Figure size 640x480 with 1 Axes>"
      ],
      "image/png": "[encoded data removed]"
     },
     "metadata": {},
     "output_type": "display_data",
     "jetTransient": {
      "display_id": null
     }
    }
   ],
   "execution_count": 29
  },
  {
   "metadata": {
    "ExecuteTime": {
     "end_time": "2025-10-08T09:50:25.112695Z",
     "start_time": "2025-10-08T09:50:25.065862Z"
    }
   },
   "cell_type": "code",
   "source": [
    "def predict(x, w1, w2):\n",
    "    Out = f_forward(x, w1, w2)\n",
    "    maxm = 0\n",
    "    k = 0\n",
    "    for i in range(len(Out[0])):\n",
    "        if maxm < Out[0][i]:\n",
    "            maxm = Out[0][i]\n",
    "            k = i\n",
    "\n",
    "    if k == 0:\n",
    "        print(\"Image is of letter A.\")\n",
    "    elif k == 1:\n",
    "        print(\"Image is of letter B.\")\n",
    "    else:\n",
    "        print(\"Image is of letter C.\")\n",
    "\n",
    "    plt.imshow(x.reshape(5, 6))\n",
    "    plt.show()\n",
    "\n",
    "\n",
    "# Example: Predicting for letter 'B'\n",
    "predict(x[1], w1, w2)\n"
   ],
   "id": "ea6b324ffad02090",
   "outputs": [
    {
     "name": "stdout",
     "output_type": "stream",
     "text": [
      "Image is of letter B.\n"
     ]
    },
    {
     "data": {
      "text/plain": [
       "<Figure size 640x480 with 1 Axes>"
      ],
      "image/png": "[encoded data removed]"
     },
     "metadata": {},
     "output_type": "display_data",
     "jetTransient": {
      "display_id": null
     }
    }
   ],
   "execution_count": 30
  },
  {
   "metadata": {},
   "cell_type": "markdown",
   "source": [
    "Điều này cho thấy mô hình đã phân loại đúng ảnh chữ B, tức là đã học được đặc trưng cơ bản để phân biệt giữa ba ký tự A, B và C. Quá trình dự đoán được thực hiện đúng quy trình: dữ liệu đầu vào được lan truyền qua các lớp ẩn, tính toán đầu ra, chọn giá trị xác suất cao nhất và hiển thị kết quả dự đoán cùng hình ảnh tương ứng.\n",
    "Tuy nhiên, do tập dữ liệu huấn luyện rất nhỏ (chỉ gồm 3 mẫu) và mạng có kiến trúc đơn giản, kết quả đúng này chỉ mang tính minh họa, chưa phản ánh được khả năng tổng quát hóa của mô hình. Nếu áp dụng với dữ liệu thực tế hoặc các biến thể của chữ viết tay, độ chính xác có thể giảm đáng kể.\n",
    "Để cải thiện, có thể mở rộng tập dữ liệu, tăng số lượng lớp và số neuron, đồng thời thử nghiệm với các mô hình học sâu chuyên dụng cho ảnh như CNN (Convolutional Neural Network).\n"
   ],
   "id": "a7bb144e7352b5b0"
  }
 ],
 "metadata": {
  "kernelspec": {
   "display_name": "Python 3",
   "language": "python",
   "name": "python3"
  },
  "language_info": {
   "codemirror_mode": {
    "name": "ipython",
    "version": 2
   },
   "file_extension": ".py",
   "mimetype": "text/x-python",
   "name": "python",
   "nbconvert_exporter": "python",
   "pygments_lexer": "ipython2",
   "version": "2.7.6"
  }
 },
 "nbformat": 4,
 "nbformat_minor": 5
}
