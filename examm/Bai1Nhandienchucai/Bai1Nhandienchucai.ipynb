{
 "cells": [
  {
   "metadata": {},
   "cell_type": "code",
   "outputs": [],
   "execution_count": null,
   "source": [
    "# Creating data set\n",
    "# A\n",
    "a =[0, 0, 1, 1, 0, 0,\n",
    "0, 1, 0, 0, 1, 0,\n",
    "1, 1, 1, 1, 1, 1,\n",
    "1, 0, 0, 0, 0, 1,\n",
    "1, 0, 0, 0, 0, 1]\n",
    "# B\n",
    "b =[0, 1, 1, 1, 1, 0,\n",
    "0, 1, 0, 0, 1, 0,\n",
    "0, 1, 1, 1, 1, 0,\n",
    "0, 1, 0, 0, 1, 0,\n",
    "0, 1, 1, 1, 1, 0]\n",
    "# C\n",
    "c =[0, 1, 1, 1, 1, 0,\n",
    "0, 1, 0, 0, 0, 0,\n",
    "0, 1, 0, 0, 0, 0,\n",
    "0, 1, 0, 0, 0, 0,\n",
    "0, 1, 1, 1, 1, 0]\n",
    "# Creating labels\n",
    "y =[[1, 0, 0],\n",
    "[0, 1, 0],\n",
    "[0, 0, 1]]"
   ],
   "id": "c16284131966ba3d"
  },
  {
   "metadata": {
    "ExecuteTime": {
     "end_time": "2025-10-08T09:12:12.696139Z",
     "start_time": "2025-10-08T09:12:12.622396Z"
    }
   },
   "cell_type": "code",
   "source": [
    "import numpy as np\n",
    "import matplotlib.pyplot as plt\n",
    "# visualizing the data, plotting A.\n",
    "plt.imshow(np.array(c).reshape(5, 6))\n",
    "plt.show()\n"
   ],
   "id": "e405316b94d8ee42",
   "outputs": [
    {
     "data": {
      "text/plain": [
       "<Figure size 640x480 with 1 Axes>"
      ],
      "image/png": "[encoded data removed]"
     },
     "metadata": {},
     "output_type": "display_data",
     "jetTransient": {
      "display_id": null
     }
    }
   ],
   "execution_count": 10
  },
  {
   "metadata": {
    "ExecuteTime": {
     "end_time": "2025-10-08T09:12:18.717675Z",
     "start_time": "2025-10-08T09:12:18.713924Z"
    }
   },
   "cell_type": "code",
   "source": [
    "# converting data and labels into numpy array\n",
    "x =[np.array(a).reshape(1, 30), np.array(b).reshape(1, 30),\n",
    "np.array(c).reshape(1, 30)]\n",
    "y = np.array(y)\n",
    "# Printing data and labels\n",
    "print(x, \"\\n\\n\", y)"
   ],
   "id": "fd3b6a6b51da4492",
   "outputs": [
    {
     "name": "stdout",
     "output_type": "stream",
     "text": [
      "[array([[0, 0, 1, 1, 0, 0, 0, 1, 0, 0, 1, 0, 1, 1, 1, 1, 1, 1, 1, 0, 0, 0,\n",
      "        0, 1, 1, 0, 0, 0, 0, 1]]), array([[0, 1, 1, 1, 1, 0, 0, 1, 0, 0, 1, 0, 0, 1, 1, 1, 1, 0, 0, 1, 0, 0,\n",
      "        1, 0, 0, 1, 1, 1, 1, 0]]), array([[0, 1, 1, 1, 1, 0, 0, 1, 0, 0, 0, 0, 0, 1, 0, 0, 0, 0, 0, 1, 0, 0,\n",
      "        0, 0, 0, 1, 1, 1, 1, 0]])] \n",
      "\n",
      " [[1 0 0]\n",
      " [0 1 0]\n",
      " [0 0 1]]\n"
     ]
    }
   ],
   "execution_count": 11
  },
  {
   "metadata": {
    "ExecuteTime": {
     "end_time": "2025-10-08T09:12:23.131451Z",
     "start_time": "2025-10-08T09:12:23.126372Z"
    }
   },
   "cell_type": "code",
   "source": [
    "# Activation function\n",
    "def sigmoid(x):\n",
    "    return 1 / (1 + np.exp(-x))\n",
    "\n",
    "# Feed-forward neural network\n",
    "def f_forward(x, w1, w2):\n",
    "    # Hidden layer\n",
    "    z1 = x.dot(w1)          # input from layer 1\n",
    "    a1 = sigmoid(z1)        # output from hidden layer\n",
    "    z2 = a1.dot(w2)         # input to output layer\n",
    "    a2 = sigmoid(z2)        # output of network\n",
    "    return a2\n",
    "\n",
    "# Initialize weights randomly\n",
    "def generate_wt(x, y):\n",
    "    li = []\n",
    "    for i in range(x * y):\n",
    "        li.append(np.random.randn())\n",
    "    return np.array(li).reshape(x, y)\n",
    "\n",
    "# Mean squared error (MSE) loss\n",
    "def loss(out, y):\n",
    "    s = np.square(out - y)\n",
    "    s = np.sum(s) / len(y)\n",
    "    return s\n",
    "\n",
    "# Backpropagation\n",
    "def back_prop(x, y, w1, w2, alpha):\n",
    "    # Forward pass\n",
    "    z1 = x.dot(w1)\n",
    "    a1 = sigmoid(z1)\n",
    "    z2 = a1.dot(w2)\n",
    "    a2 = sigmoid(z2)\n",
    "\n",
    "    # Error in output layer\n",
    "    d2 = a2 - y\n",
    "    d1 = np.multiply((w2.dot(d2.T)).T, np.multiply(a1, 1 - a1))\n",
    "\n",
    "    # Gradients for w1 and w2\n",
    "    w1_adj = x.T.dot(d1)\n",
    "    w2_adj = a1.T.dot(d2)\n",
    "\n",
    "    # Update weights\n",
    "    w1 = w1 - alpha * w1_adj\n",
    "    w2 = w2 - alpha * w2_adj\n",
    "\n",
    "    return w1, w2\n"
   ],
   "id": "b0ce22020a18cef5",
   "outputs": [],
   "execution_count": 12
  },
  {
   "metadata": {
    "ExecuteTime": {
     "end_time": "2025-10-08T09:12:25.870766Z",
     "start_time": "2025-10-08T09:12:25.866942Z"
    }
   },
   "cell_type": "code",
   "source": [
    "w1 = generate_wt(30, 5)\n",
    "w2 = generate_wt(5, 3)\n",
    "print(w1, \"\\n\\n\", w2)"
   ],
   "id": "c19da7a75160f78f",
   "outputs": [
    {
     "name": "stdout",
     "output_type": "stream",
     "text": [
      "[[ 9.08444663e-01  1.84694654e-01 -4.09051237e-01 -2.76195785e-01\n",
      "  -7.67559711e-01]\n",
      " [-1.16862420e+00 -1.52085746e+00 -8.22919412e-01  1.65816613e-01\n",
      "   1.20625646e+00]\n",
      " [-3.44066088e-01  7.36901891e-01 -1.28581566e-01 -2.81907614e-01\n",
      "  -3.53149424e-01]\n",
      " [ 2.50972947e+00 -5.01480619e-01 -6.32010399e-01 -2.64564124e-01\n",
      "   2.23394990e+00]\n",
      " [ 4.00419516e-01 -7.29561753e-01 -3.62623420e-01 -8.28192746e-01\n",
      "  -7.43274134e-01]\n",
      " [ 4.33542102e-01  8.56264795e-01 -1.21205170e-01  2.73823277e-01\n",
      "  -5.39291478e-01]\n",
      " [-7.93911260e-01 -3.27591002e-01  1.48890289e+00 -1.05973781e+00\n",
      "  -1.18064127e+00]\n",
      " [ 1.31472942e+00 -1.19547081e+00 -9.90141881e-01 -1.37293302e+00\n",
      "  -1.04436506e-01]\n",
      " [-7.30694513e-01  1.99001068e-01 -2.54813355e+00  2.70995324e-01\n",
      "  -1.57397729e+00]\n",
      " [ 1.37696394e+00  5.10528462e-01 -7.27204909e-01 -4.18868958e-02\n",
      "  -7.09859129e-01]\n",
      " [ 1.40110558e+00 -7.89222125e-01 -1.38985496e-01 -3.29900964e-02\n",
      "   1.96064537e+00]\n",
      " [ 2.72888500e-02 -5.33004538e-01 -3.52418279e-02 -4.46697427e-01\n",
      "  -5.80726178e-01]\n",
      " [-1.81101944e+00 -6.19758941e-01  7.44070302e-01  1.46363452e+00\n",
      "  -8.00353367e-01]\n",
      " [ 2.28115561e-01 -2.74946396e+00 -7.57862149e-01  2.80761402e-02\n",
      "   8.98747196e-01]\n",
      " [-1.21453218e+00  7.00494178e-01  2.40954033e-01 -1.11749422e-01\n",
      "  -4.56947399e-01]\n",
      " [-5.47425831e-01  3.29189791e-01  7.56134546e-01  9.84929024e-01\n",
      "  -1.03029024e+00]\n",
      " [ 4.09528783e-01  7.08764340e-01  1.67811521e+00  1.14930594e+00\n",
      "   4.62369208e-01]\n",
      " [-5.00100148e-01  1.80369865e+00  2.39191730e-01  2.43688666e+00\n",
      "  -1.80620807e-03]\n",
      " [-2.01842433e-02 -1.19765145e+00  3.13240134e-01  7.17088128e-01\n",
      "  -3.79132017e-01]\n",
      " [-1.51869136e+00  2.44713612e-01  2.29616095e+00  4.39330993e-01\n",
      "   6.01857837e-01]\n",
      " [-1.95643116e+00  3.44936692e+00  2.37026083e-01 -3.19973974e-01\n",
      "  -1.28536184e-01]\n",
      " [-1.36809721e+00 -1.21870180e+00  1.07939993e+00  1.20841589e+00\n",
      "  -7.51899570e-01]\n",
      " [-5.57955282e-01 -5.19794840e-01  1.95455902e+00  1.87532419e+00\n",
      "   3.29110066e-01]\n",
      " [ 7.97965683e-01 -7.89233596e-01 -6.44377665e-01 -1.39629147e-01\n",
      "  -7.53871551e-01]\n",
      " [ 5.85727603e-01  9.39710169e-01  2.19549311e-01  2.88551492e+00\n",
      "  -3.10298215e-01]\n",
      " [-1.03711049e+00  1.53751950e+00  2.45112546e-01 -8.25514004e-03\n",
      "  -2.01723816e-01]\n",
      " [-8.64319013e-01 -1.21375322e+00 -1.86059982e-02 -9.91859037e-01\n",
      "   1.73681766e+00]\n",
      " [ 6.93114548e-01 -4.73972742e-01  1.16759120e+00 -1.77177896e-01\n",
      "  -1.04795214e+00]\n",
      " [-1.72184551e+00  9.88138259e-01  4.58485747e-01 -1.84214733e+00\n",
      "   2.93267349e-01]\n",
      " [ 2.84635800e-01  1.54724792e-01 -9.77173052e-01 -4.09850446e-01\n",
      "  -5.84078339e-01]] \n",
      "\n",
      " [[ 0.90642426 -0.24346415 -0.98365119]\n",
      " [-0.09042687 -0.28484218 -0.43104409]\n",
      " [ 0.1844181  -2.55482381 -0.7970374 ]\n",
      " [-2.28245857  0.33859509 -0.03820735]\n",
      " [ 0.38435155  0.19980038  0.95467563]]\n"
     ]
    }
   ],
   "execution_count": 13
  },
  {
   "metadata": {
    "ExecuteTime": {
     "end_time": "2025-10-08T09:12:27.895980Z",
     "start_time": "2025-10-08T09:12:27.876355Z"
    }
   },
   "cell_type": "code",
   "source": [
    "def train(x, Y, w1, w2, alpha = 0.01, epoch = 10):\n",
    "    acc = []\n",
    "    losss = []\n",
    "    for j in range(epoch):\n",
    "        l = []\n",
    "        for i in range(len(x)):\n",
    "            out = f_forward(x[i], w1, w2)\n",
    "            l.append((loss(out, Y[i])))\n",
    "            w1, w2 = back_prop(x[i], y[i], w1, w2, alpha)\n",
    "        print(\"epochs:\", j + 1, \"======== acc:\", (1 - (sum(l) / len(x))) * 100)\n",
    "        acc.append((1 - (sum(l) / len(x))) * 100)\n",
    "        losss.append(sum(l) / len(x))\n",
    "    return (acc, losss, w1, w2)\n",
    "\n",
    "acc, losss, w1, w2 = train(x, y, w1, w2, 0.1, 100)\n"
   ],
   "id": "81f1f054f42c8cc0",
   "outputs": [
    {
     "name": "stdout",
     "output_type": "stream",
     "text": [
      "epochs: 1 ======== acc: 68.6929410758821\n",
      "epochs: 2 ======== acc: 70.8347884255785\n",
      "epochs: 3 ======== acc: 72.72866635524784\n",
      "epochs: 4 ======== acc: 74.3378650106515\n",
      "epochs: 5 ======== acc: 75.66784850985353\n",
      "epochs: 6 ======== acc: 76.79496072267176\n",
      "epochs: 7 ======== acc: 77.79364298518459\n",
      "epochs: 8 ======== acc: 78.70670943221522\n",
      "epochs: 9 ======== acc: 79.55527270793563\n",
      "epochs: 10 ======== acc: 80.35002699678436\n",
      "epochs: 11 ======== acc: 81.09723220663415\n",
      "epochs: 12 ======== acc: 81.80137912042075\n",
      "epochs: 13 ======== acc: 82.46623444108442\n",
      "epochs: 14 ======== acc: 83.09514667610426\n",
      "epochs: 15 ======== acc: 83.69105408435547\n",
      "epochs: 16 ======== acc: 84.2564211381337\n",
      "epochs: 17 ======== acc: 84.79321458454197\n",
      "epochs: 18 ======== acc: 85.30295780796563\n",
      "epochs: 19 ======== acc: 85.78685292897961\n",
      "epochs: 20 ======== acc: 86.24593175401145\n",
      "epochs: 21 ======== acc: 86.68119128508133\n",
      "epochs: 22 ======== acc: 87.09368329520746\n",
      "epochs: 23 ======== acc: 87.48454955765027\n",
      "epochs: 24 ======== acc: 87.8550127690309\n",
      "epochs: 25 ======== acc: 88.20634175220438\n",
      "epochs: 26 ======== acc: 88.53980882620814\n",
      "epochs: 27 ======== acc: 88.85665159774598\n",
      "epochs: 28 ======== acc: 89.15804504866989\n",
      "epochs: 29 ======== acc: 89.4450849767441\n",
      "epochs: 30 ======== acc: 89.7187811370937\n",
      "epochs: 31 ======== acc: 89.9800574213271\n",
      "epochs: 32 ======== acc: 90.22975643864099\n",
      "epochs: 33 ======== acc: 90.46864636960936\n",
      "epochs: 34 ======== acc: 90.69742859081776\n",
      "epochs: 35 ======== acc: 90.91674513356274\n",
      "epochs: 36 ======== acc: 91.12718547425246\n",
      "epochs: 37 ======== acc: 91.32929245247891\n",
      "epochs: 38 ======== acc: 91.52356729707986\n",
      "epochs: 39 ======== acc: 91.7104738405168\n",
      "epochs: 40 ======== acc: 91.89044204512996\n",
      "epochs: 41 ======== acc: 92.06387097321144\n",
      "epochs: 42 ======== acc: 92.23113132214127\n",
      "epochs: 43 ======== acc: 92.39256762653902\n",
      "epochs: 44 ======== acc: 92.54850020791707\n",
      "epochs: 45 ======== acc: 92.69922693223342\n",
      "epochs: 46 ======== acc: 92.84502481869504\n",
      "epochs: 47 ======== acc: 92.98615152965922\n",
      "epochs: 48 ======== acc: 93.1228467613717\n",
      "epochs: 49 ======== acc: 93.25533354810386\n",
      "epochs: 50 ======== acc: 93.38381948743191\n",
      "epochs: 51 ======== acc: 93.5084978913751\n",
      "epochs: 52 ======== acc: 93.62954886637812\n",
      "epochs: 53 ======== acc: 93.7471403242773\n",
      "epochs: 54 ======== acc: 93.86142892611409\n",
      "epochs: 55 ======== acc: 93.97256096071858\n",
      "epochs: 56 ======== acc: 94.08067316021673\n",
      "epochs: 57 ======== acc: 94.18589345490533\n",
      "epochs: 58 ======== acc: 94.28834167022286\n",
      "epochs: 59 ======== acc: 94.38813016878024\n",
      "epochs: 60 ======== acc: 94.48536444058597\n",
      "epochs: 61 ======== acc: 94.58014364470203\n",
      "epochs: 62 ======== acc: 94.67256110559946\n",
      "epochs: 63 ======== acc: 94.76270476745854\n",
      "epochs: 64 ======== acc: 94.85065760958501\n",
      "epochs: 65 ======== acc: 94.93649802600143\n",
      "epochs: 66 ======== acc: 95.02030017213413\n",
      "epochs: 67 ======== acc: 95.10213428135643\n",
      "epochs: 68 ======== acc: 95.18206695397843\n",
      "epochs: 69 ======== acc: 95.26016142109765\n",
      "epochs: 70 ======== acc: 95.33647778554786\n",
      "epochs: 71 ======== acc: 95.41107324200976\n",
      "epochs: 72 ======== acc: 95.48400227817984\n",
      "epochs: 73 ======== acc: 95.5553168587328\n",
      "epochs: 74 ======== acc: 95.62506659366292\n",
      "epochs: 75 ======== acc: 95.69329889244788\n",
      "epochs: 76 ======== acc: 95.76005910534722\n",
      "epochs: 77 ======== acc: 95.82539065302667\n",
      "epochs: 78 ======== acc: 95.88933514558782\n",
      "epochs: 79 ======== acc: 95.95193249198081\n",
      "epochs: 80 ======== acc: 96.0132210006841\n",
      "epochs: 81 ======== acc: 96.0732374724514\n",
      "epochs: 82 ======== acc: 96.13201728584801\n",
      "epochs: 83 ======== acc: 96.18959447622962\n",
      "epochs: 84 ======== acc: 96.24600180875366\n",
      "epochs: 85 ======== acc: 96.30127084595576\n",
      "epochs: 86 ======== acc: 96.35543201037262\n",
      "epochs: 87 ======== acc: 96.40851464264675\n",
      "epochs: 88 ======== acc: 96.46054705550563\n",
      "epochs: 89 ======== acc: 96.51155658397117\n",
      "epochs: 90 ======== acc: 96.56156963212082\n",
      "epochs: 91 ======== acc: 96.61061171669128\n",
      "epochs: 92 ======== acc: 96.65870750778845\n",
      "epochs: 93 ======== acc: 96.70588086694221\n",
      "epochs: 94 ======== acc: 96.75215488272264\n",
      "epochs: 95 ======== acc: 96.79755190411396\n",
      "epochs: 96 ======== acc: 96.84209357182489\n",
      "epochs: 97 ======== acc: 96.88580084769717\n",
      "epochs: 98 ======== acc: 96.92869404236035\n",
      "epochs: 99 ======== acc: 96.97079284126691\n",
      "epochs: 100 ======== acc: 97.01211632923047\n"
     ]
    }
   ],
   "execution_count": 14
  },
  {
   "metadata": {
    "ExecuteTime": {
     "end_time": "2025-10-08T09:12:34.471788Z",
     "start_time": "2025-10-08T09:12:34.365668Z"
    }
   },
   "cell_type": "code",
   "source": [
    "import matplotlib.pyplot as plt1\n",
    "\n",
    "# plotting accuracy\n",
    "plt1.plot(acc)\n",
    "plt1.ylabel('Accuracy')\n",
    "plt1.xlabel(\"Epochs:\")\n",
    "plt1.show()\n",
    "\n",
    "# plotting Loss\n",
    "plt1.plot(losss)\n",
    "plt1.ylabel('Loss')\n",
    "plt1.xlabel(\"Epochs:\")\n",
    "plt1.show()"
   ],
   "id": "b461650ff3e59e77",
   "outputs": [
    {
     "data": {
      "text/plain": [
       "<Figure size 640x480 with 1 Axes>"
      ],
      "image/png": "[encoded data removed]"
     },
     "metadata": {},
     "output_type": "display_data",
     "jetTransient": {
      "display_id": null
     }
    },
    {
     "data": {
      "text/plain": [
       "<Figure size 640x480 with 1 Axes>"
      ],
      "image/png": "[encoded data removed]"
     },
     "metadata": {},
     "output_type": "display_data",
     "jetTransient": {
      "display_id": null
     }
    }
   ],
   "execution_count": 15
  },
  {
   "metadata": {
    "ExecuteTime": {
     "end_time": "2025-10-08T09:26:02.372432Z",
     "start_time": "2025-10-08T09:26:02.314589Z"
    }
   },
   "cell_type": "code",
   "source": [
    "def predict(x, w1, w2):\n",
    "    Out = f_forward(x, w1, w2)\n",
    "    maxm = 0\n",
    "    k = 0\n",
    "    for i in range(len(Out[0])):\n",
    "        if maxm < Out[0][i]:\n",
    "            maxm = Out[0][i]\n",
    "            k = i\n",
    "\n",
    "    if k == 0:\n",
    "        print(\"Image is of letter A.\")\n",
    "    elif k == 1:\n",
    "        print(\"Image is of letter B.\")\n",
    "    else:\n",
    "        print(\"Image is of letter C.\")\n",
    "\n",
    "    plt.imshow(x.reshape(5, 6))\n",
    "    plt.show()\n",
    "\n",
    "\n",
    "# Example: Predicting for letter 'B'\n",
    "predict(x[1], w1, w2)\n"
   ],
   "id": "ea6b324ffad02090",
   "outputs": [
    {
     "name": "stdout",
     "output_type": "stream",
     "text": [
      "Image is of letter B.\n"
     ]
    },
    {
     "data": {
      "text/plain": [
       "<Figure size 640x480 with 1 Axes>"
      ],
      "image/png": "[encoded data removed]"
     },
     "metadata": {},
     "output_type": "display_data",
     "jetTransient": {
      "display_id": null
     }
    }
   ],
   "execution_count": 22
  },
  {
   "metadata": {},
   "cell_type": "markdown",
   "source": "",
   "id": "f026cdf4edb20387"
  }
 ],
 "metadata": {
  "kernelspec": {
   "display_name": "Python 3",
   "language": "python",
   "name": "python3"
  },
  "language_info": {
   "codemirror_mode": {
    "name": "ipython",
    "version": 2
   },
   "file_extension": ".py",
   "mimetype": "text/x-python",
   "name": "python",
   "nbconvert_exporter": "python",
   "pygments_lexer": "ipython2",
   "version": "2.7.6"
  }
 },
 "nbformat": 4,
 "nbformat_minor": 5
}
